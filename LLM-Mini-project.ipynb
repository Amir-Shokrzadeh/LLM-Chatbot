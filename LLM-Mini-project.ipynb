{
 "cells": [
  {
   "cell_type": "code",
   "execution_count": 1,
   "id": "68c0c747-e9c1-48cd-a8ba-f20f26ad26ca",
   "metadata": {},
   "outputs": [],
   "source": [
    "from datasets import load_dataset\n",
    "from transformers import pipeline\n",
    "import gradio as gr"
   ]
  },
  {
   "cell_type": "code",
   "execution_count": 2,
   "id": "9e863632-8f3c-449e-aaa1-151363cefcfc",
   "metadata": {},
   "outputs": [
    {
     "name": "stdout",
     "output_type": "stream",
     "text": [
      "DatasetDict({\n",
      "    train: Dataset({\n",
      "        features: ['chosen', 'rejected'],\n",
      "        num_rows: 42537\n",
      "    })\n",
      "    test: Dataset({\n",
      "        features: ['chosen', 'rejected'],\n",
      "        num_rows: 2312\n",
      "    })\n",
      "})\n"
     ]
    }
   ],
   "source": [
    "# loading dataset\n",
    "dataset = load_dataset(\"Unified-Language-Model-Alignment/Anthropic_HH_Golden\")\n",
    "\n",
    "print(dataset)\n",
    "\n",
    "train_data = dataset['train']\n"
   ]
  },
  {
   "cell_type": "code",
   "execution_count": 6,
   "id": "b91a8650-3d94-4068-9f65-ffc4bc0dfe53",
   "metadata": {},
   "outputs": [],
   "source": [
    "# text production function using the LLM model\n",
    "def generate_text(prompt):\n",
    "    model = pipeline(\"text-generation\", model='gpt2')\n",
    "    result = model(prompt, max_length=200, num_return_sequences=1)\n",
    "    return result[0]['generated_text']"
   ]
  },
  {
   "cell_type": "code",
   "execution_count": 7,
   "id": "88b46be1-41d6-4a62-88b2-c1d1325b7d31",
   "metadata": {},
   "outputs": [
    {
     "name": "stdout",
     "output_type": "stream",
     "text": [
      "* Running on local URL:  http://127.0.0.1:7861\n",
      "\n",
      "To create a public link, set `share=True` in `launch()`.\n"
     ]
    },
    {
     "data": {
      "text/html": [
       "<div><iframe src=\"http://127.0.0.1:7861/\" width=\"100%\" height=\"500\" allow=\"autoplay; camera; microphone; clipboard-read; clipboard-write;\" frameborder=\"0\" allowfullscreen></iframe></div>"
      ],
      "text/plain": [
       "<IPython.core.display.HTML object>"
      ]
     },
     "metadata": {},
     "output_type": "display_data"
    },
    {
     "data": {
      "text/plain": []
     },
     "execution_count": 7,
     "metadata": {},
     "output_type": "execute_result"
    },
    {
     "name": "stderr",
     "output_type": "stream",
     "text": [
      "Truncation was not explicitly activated but `max_length` is provided a specific value, please use `truncation=True` to explicitly truncate examples to max length. Defaulting to 'longest_first' truncation strategy. If you encode pairs of sequences (GLUE-style) with the tokenizer you can select this strategy more precisely by providing a specific strategy to `truncation`.\n",
      "Setting `pad_token_id` to `eos_token_id`:None for open-end generation.\n"
     ]
    }
   ],
   "source": [
    "# UI\n",
    "iface = gr.Interface(\n",
    "    fn = generate_text,\n",
    "    inputs = gr.Textbox(lines = 2, placeholder = 'Enter your prompt...'),\n",
    "    outputs = gr.Textbox(lines = 10, label = 'Produced result'),\n",
    "    title = 'Basic Chatbot',\n",
    "    description = \"this model uses gpt-2 for text production\"\n",
    ")\n",
    "\n",
    "iface.launch()"
   ]
  },
  {
   "cell_type": "code",
   "execution_count": null,
   "id": "a4de0588-3c34-43d7-bbdc-67ea8e98ebf9",
   "metadata": {},
   "outputs": [],
   "source": []
  }
 ],
 "metadata": {
  "kernelspec": {
   "display_name": "Python 3 (ipykernel)",
   "language": "python",
   "name": "python3"
  },
  "language_info": {
   "codemirror_mode": {
    "name": "ipython",
    "version": 3
   },
   "file_extension": ".py",
   "mimetype": "text/x-python",
   "name": "python",
   "nbconvert_exporter": "python",
   "pygments_lexer": "ipython3",
   "version": "3.12.4"
  }
 },
 "nbformat": 4,
 "nbformat_minor": 5
}
